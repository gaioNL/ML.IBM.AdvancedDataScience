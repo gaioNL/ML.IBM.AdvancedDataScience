{
  "nbformat": 4,
  "nbformat_minor": 0,
  "metadata": {
    "kernelspec": {
      "display_name": "Python 3",
      "language": "python",
      "name": "python3"
    },
    "language_info": {
      "codemirror_mode": {
        "name": "ipython",
        "version": 3
      },
      "file_extension": ".py",
      "mimetype": "text/x-python",
      "name": "python",
      "nbconvert_exporter": "python",
      "pygments_lexer": "ipython3",
      "version": "3.7.3"
    },
    "colab": {
      "name": "wk2-ML2.ipynb",
      "provenance": [],
      "collapsed_sections": []
    }
  },
  "cells": [
    {
      "cell_type": "markdown",
      "metadata": {
        "id": "U2R14UmCYP0F"
      },
      "source": [
        "This is the second assignment for the Coursera course \"Advanced Machine Learning and Signal Processing\"\n",
        "\n",
        "\n",
        "Just execute all cells one after the other and you are done - just note that in the last one you have to update your email address (the one you've used for coursera) and obtain a submission token, you get this from the programming assignment directly on coursera.\n",
        "\n",
        "Please fill in the sections labelled with \"###YOUR_CODE_GOES_HERE###\""
      ]
    },
    {
      "cell_type": "markdown",
      "metadata": {
        "id": "4XTGrUhhYP0G"
      },
      "source": [
        "This notebook is designed to run in a IBM Watson Studio default runtime (NOT the Watson Studio Apache Spark Runtime as the default runtime with 1 vCPU is free of charge). Therefore, we install Apache Spark in local mode for test purposes only. Please don't use it in production.\n",
        "\n",
        "In case you are facing issues, please read the following two documents first:\n",
        "\n",
        "https://github.com/IBM/skillsnetwork/wiki/Environment-Setup\n",
        "\n",
        "https://github.com/IBM/skillsnetwork/wiki/FAQ\n",
        "\n",
        "Then, please feel free to ask:\n",
        "\n",
        "https://coursera.org/learn/machine-learning-big-data-apache-spark/discussions/all\n",
        "\n",
        "Please make sure to follow the guidelines before asking a question:\n",
        "\n",
        "https://github.com/IBM/skillsnetwork/wiki/FAQ#im-feeling-lost-and-confused-please-help-me\n",
        "\n",
        "\n",
        "If running outside Watson Studio, this should work as well. In case you are running in an Apache Spark context outside Watson Studio, please remove the Apache Spark setup in the first notebook cells."
      ]
    },
    {
      "cell_type": "markdown",
      "metadata": {
        "id": "Cuq2mlv_Yr-H"
      },
      "source": [
        "#**SET-UP PYSPARK ON COLAB**"
      ]
    },
    {
      "cell_type": "code",
      "metadata": {
        "id": "I938xlmTY2WK"
      },
      "source": [
        "!apt-get install openjdk-8-jdk-headless -qq > /dev/null"
      ],
      "execution_count": 1,
      "outputs": []
    },
    {
      "cell_type": "code",
      "metadata": {
        "id": "YWzSJIudY5n5"
      },
      "source": [
        "!wget -q https://www-us.apache.org/dist/spark/spark-3.0.1/spark-3.0.1-bin-hadoop2.7.tgz"
      ],
      "execution_count": 2,
      "outputs": []
    },
    {
      "cell_type": "code",
      "metadata": {
        "id": "AJTCEu2nZDas"
      },
      "source": [
        "!tar xf spark-3.0.1-bin-hadoop2.7.tgz"
      ],
      "execution_count": 3,
      "outputs": []
    },
    {
      "cell_type": "code",
      "metadata": {
        "id": "b7cAM0RSZEjA"
      },
      "source": [
        "!pip install -q findspark"
      ],
      "execution_count": 4,
      "outputs": []
    },
    {
      "cell_type": "code",
      "metadata": {
        "id": "qnRNIRbcZIgC"
      },
      "source": [
        "import os\n",
        "os.environ[\"JAVA_HOME\"] = \"/usr/lib/jvm/java-8-openjdk-amd64\"\n",
        "os.environ[\"SPARK_HOME\"] = \"/content/spark-3.0.1-bin-hadoop2.7\""
      ],
      "execution_count": 5,
      "outputs": []
    },
    {
      "cell_type": "code",
      "metadata": {
        "id": "osMEgtcnZPwr"
      },
      "source": [
        "import findspark\n",
        "findspark.init()"
      ],
      "execution_count": 6,
      "outputs": []
    },
    {
      "cell_type": "code",
      "metadata": {
        "colab": {
          "base_uri": "https://localhost:8080/",
          "height": 35
        },
        "id": "Q0d_8o3gZTmw",
        "outputId": "17223cff-7b7c-4cd7-9110-98903a364a54"
      },
      "source": [
        "findspark.find()"
      ],
      "execution_count": 7,
      "outputs": [
        {
          "output_type": "execute_result",
          "data": {
            "application/vnd.google.colaboratory.intrinsic+json": {
              "type": "string"
            },
            "text/plain": [
              "'/content/spark-3.0.1-bin-hadoop2.7'"
            ]
          },
          "metadata": {
            "tags": []
          },
          "execution_count": 7
        }
      ]
    },
    {
      "cell_type": "code",
      "metadata": {
        "id": "ptm8AVpCYP0G"
      },
      "source": [
        "from IPython.display import Markdown, display\n",
        "def printmd(string):\n",
        "    display(Markdown('# <span style=\"color:red\">'+string+'</span>'))\n",
        "\n",
        "\n",
        "if ('sc' in locals() or 'sc' in globals()):\n",
        "    printmd('<<<<<!!!!! It seems that you are running in a IBM Watson Studio Apache Spark Notebook. Please run it in an IBM Watson Studio Default Runtime (without Apache Spark) !!!!!>>>>>')\n"
      ],
      "execution_count": 8,
      "outputs": []
    },
    {
      "cell_type": "code",
      "metadata": {
        "id": "Nf8RO7F9YP0H"
      },
      "source": [
        "#!pip install pyspark==2.4.5"
      ],
      "execution_count": 9,
      "outputs": []
    },
    {
      "cell_type": "code",
      "metadata": {
        "id": "En_I6zERYP0H"
      },
      "source": [
        "try:\n",
        "    from pyspark import SparkContext, SparkConf\n",
        "    from pyspark.sql import SparkSession\n",
        "except ImportError as e:\n",
        "    printmd('<<<<<!!!!! Please restart your kernel after installing Apache Spark !!!!!>>>>>')"
      ],
      "execution_count": 10,
      "outputs": []
    },
    {
      "cell_type": "code",
      "metadata": {
        "id": "mQsG_wHRYP0H"
      },
      "source": [
        "sc = SparkContext.getOrCreate(SparkConf().setMaster(\"local[*]\"))\n",
        "\n",
        "spark = SparkSession \\\n",
        "    .builder \\\n",
        "    .getOrCreate()"
      ],
      "execution_count": 11,
      "outputs": []
    },
    {
      "cell_type": "code",
      "metadata": {
        "colab": {
          "base_uri": "https://localhost:8080/"
        },
        "id": "LzY_yU9oYP0H",
        "outputId": "af265894-0e6c-4536-a24f-fae7eabed88d"
      },
      "source": [
        "!wget https://github.com/IBM/coursera/raw/master/coursera_ml/a2.parquet"
      ],
      "execution_count": 12,
      "outputs": [
        {
          "output_type": "stream",
          "text": [
            "--2020-11-19 07:27:30--  https://github.com/IBM/coursera/raw/master/coursera_ml/a2.parquet\n",
            "Resolving github.com (github.com)... 140.82.114.4\n",
            "Connecting to github.com (github.com)|140.82.114.4|:443... connected.\n",
            "HTTP request sent, awaiting response... 301 Moved Permanently\n",
            "Location: https://github.com/IBM/skillsnetwork/raw/master/coursera_ml/a2.parquet [following]\n",
            "--2020-11-19 07:27:30--  https://github.com/IBM/skillsnetwork/raw/master/coursera_ml/a2.parquet\n",
            "Reusing existing connection to github.com:443.\n",
            "HTTP request sent, awaiting response... 302 Found\n",
            "Location: https://raw.githubusercontent.com/IBM/skillsnetwork/master/coursera_ml/a2.parquet [following]\n",
            "--2020-11-19 07:27:30--  https://raw.githubusercontent.com/IBM/skillsnetwork/master/coursera_ml/a2.parquet\n",
            "Resolving raw.githubusercontent.com (raw.githubusercontent.com)... 151.101.0.133, 151.101.64.133, 151.101.128.133, ...\n",
            "Connecting to raw.githubusercontent.com (raw.githubusercontent.com)|151.101.0.133|:443... connected.\n",
            "HTTP request sent, awaiting response... 200 OK\n",
            "Length: 59032 (58K) [application/octet-stream]\n",
            "Saving to: ‘a2.parquet’\n",
            "\n",
            "a2.parquet          100%[===================>]  57.65K  --.-KB/s    in 0.02s   \n",
            "\n",
            "2020-11-19 07:27:30 (2.74 MB/s) - ‘a2.parquet’ saved [59032/59032]\n",
            "\n"
          ],
          "name": "stdout"
        }
      ]
    },
    {
      "cell_type": "markdown",
      "metadata": {
        "id": "Ix9RDeeuYP0H"
      },
      "source": [
        "Now it’s time to have a look at the recorded sensor data. You should see data similar to the one exemplified below….\n"
      ]
    },
    {
      "cell_type": "code",
      "metadata": {
        "colab": {
          "base_uri": "https://localhost:8080/"
        },
        "id": "cnHnR7nUYP0H",
        "outputId": "00e162b2-6795-497b-a6f4-0efd5e7ece85"
      },
      "source": [
        "df=spark.read.load('a2.parquet')\n",
        "\n",
        "df.createOrReplaceTempView(\"df\")\n",
        "spark.sql(\"SELECT * from df\").show()\n"
      ],
      "execution_count": 13,
      "outputs": [
        {
          "output_type": "stream",
          "text": [
            "+-----+-----------+-------------------+-------------------+-------------------+\n",
            "|CLASS|   SENSORID|                  X|                  Y|                  Z|\n",
            "+-----+-----------+-------------------+-------------------+-------------------+\n",
            "|    0|         26| 380.66434005495194| -139.3470983812975|-247.93697521077704|\n",
            "|    0|         29| 104.74324299209692| -32.27421440203938|-25.105013725863852|\n",
            "|    0| 8589934658| 118.11469236129976| 45.916682927433534| -87.97203782706572|\n",
            "|    0|34359738398| 246.55394030642543|-0.6122810693132044|-398.18662513951506|\n",
            "|    0|17179869241|-190.32584900181487|  234.7849657520335|-206.34483804019288|\n",
            "|    0|25769803830| 178.62396382387422| -47.07529438881511|  84.38310769821979|\n",
            "|    0|25769803831|  85.03128805189493|-4.3024316644854546|-1.1841857567516714|\n",
            "|    0|34359738411| 26.786262674736566| -46.33193951911338| 20.880756008396055|\n",
            "|    0| 8589934592|-16.203752396859194| 51.080957032176954| -96.80526656416971|\n",
            "|    0|25769803852|   47.2048142440404|  -78.2950899652916| 181.99604091494786|\n",
            "|    0|34359738369| 15.608872398939273| -79.90322809181754|  69.62150711098005|\n",
            "|    0|         19|-4.8281721129789315| -67.38050508399905| 221.24876396496404|\n",
            "|    0|         54| -98.40725712852762|-19.989364074314732|  -302.695196085276|\n",
            "|    0|17179869313| 22.835845394816594|   17.1633660118843| 32.877914832011385|\n",
            "|    0|34359738454|  84.20178070080324| -32.81572075916947| -48.63517643958031|\n",
            "|    0|          0|  56.54732521345129| -7.980106018032676|  95.05162719436447|\n",
            "|    0|17179869201|  -57.6008655247749|  5.135393798773895| 236.99158698947267|\n",
            "|    0|17179869308| -65.59264738389012| -48.92660057215126| -61.58970715383383|\n",
            "|    0|25769803790|  34.82337351291005|  9.483542084393937|  197.6066372962772|\n",
            "|    0|25769803825|  39.80573823439121|-0.7955236412785212| -79.66652640650325|\n",
            "+-----+-----------+-------------------+-------------------+-------------------+\n",
            "only showing top 20 rows\n",
            "\n"
          ],
          "name": "stdout"
        }
      ]
    },
    {
      "cell_type": "markdown",
      "metadata": {
        "id": "ShHBfJ-3YP0H"
      },
      "source": [
        "Please create a VectorAssembler which consumes columns X, Y and Z and produces a column “features”\n"
      ]
    },
    {
      "cell_type": "code",
      "metadata": {
        "id": "gn-zZASpYP0H"
      },
      "source": [
        "from pyspark.ml.feature import VectorAssembler\n",
        "vectorAssembler = VectorAssembler(inputCols=[\"X\",\"Y\",\"Z\"],outputCol=\"features\")"
      ],
      "execution_count": 18,
      "outputs": []
    },
    {
      "cell_type": "markdown",
      "metadata": {
        "id": "kcWNxZIfYP0H"
      },
      "source": [
        "Please instantiate a classifier from the SparkML package and assign it to the classifier variable. Make sure to either\n",
        "1.\tRename the “CLASS” column to “label” or\n",
        "2.\tSpecify the label-column correctly to be “CLASS”\n"
      ]
    },
    {
      "cell_type": "code",
      "metadata": {
        "id": "mKl7jnWqYP0H"
      },
      "source": [
        "from pyspark.ml.classification import GBTClassifier\n",
        "\n",
        "classifier = GBTClassifier(labelCol=\"CLASS\", featuresCol=\"features\", maxIter=10)"
      ],
      "execution_count": 19,
      "outputs": []
    },
    {
      "cell_type": "markdown",
      "metadata": {
        "id": "n3clByqNYP0H"
      },
      "source": [
        "Let’s train and evaluate…\n"
      ]
    },
    {
      "cell_type": "code",
      "metadata": {
        "id": "PUmgCfGdYP0H"
      },
      "source": [
        "from pyspark.ml import Pipeline\n",
        "pipeline = Pipeline(stages=[vectorAssembler, classifier])"
      ],
      "execution_count": 20,
      "outputs": []
    },
    {
      "cell_type": "code",
      "metadata": {
        "id": "Ho7ezOnsYP0H"
      },
      "source": [
        "model = pipeline.fit(df)"
      ],
      "execution_count": 21,
      "outputs": []
    },
    {
      "cell_type": "code",
      "metadata": {
        "id": "h_YZjvPWYP0H"
      },
      "source": [
        "prediction = model.transform(df)"
      ],
      "execution_count": 22,
      "outputs": []
    },
    {
      "cell_type": "code",
      "metadata": {
        "colab": {
          "base_uri": "https://localhost:8080/"
        },
        "id": "po3KQ-FNYP0H",
        "outputId": "fbf6fdf7-d2b5-45d9-d4d1-064163431556"
      },
      "source": [
        "prediction.show()"
      ],
      "execution_count": 23,
      "outputs": [
        {
          "output_type": "stream",
          "text": [
            "+-----+-----------+-------------------+-------------------+-------------------+--------------------+--------------------+--------------------+----------+\n",
            "|CLASS|   SENSORID|                  X|                  Y|                  Z|            features|       rawPrediction|         probability|prediction|\n",
            "+-----+-----------+-------------------+-------------------+-------------------+--------------------+--------------------+--------------------+----------+\n",
            "|    0|         26| 380.66434005495194| -139.3470983812975|-247.93697521077704|[380.664340054951...|[1.32589766213010...|[0.93412155816733...|       0.0|\n",
            "|    0|         29| 104.74324299209692| -32.27421440203938|-25.105013725863852|[104.743242992096...|[1.32589766213010...|[0.93412155816733...|       0.0|\n",
            "|    0| 8589934658| 118.11469236129976| 45.916682927433534| -87.97203782706572|[118.114692361299...|[1.32680169324328...|[0.93423273625928...|       0.0|\n",
            "|    0|34359738398| 246.55394030642543|-0.6122810693132044|-398.18662513951506|[246.553940306425...|[1.32711813715030...|[0.93427161142354...|       0.0|\n",
            "|    0|17179869241|-190.32584900181487|  234.7849657520335|-206.34483804019288|[-190.32584900181...|[1.32590267922033...|[0.93412217565278...|       0.0|\n",
            "|    0|25769803830| 178.62396382387422| -47.07529438881511|  84.38310769821979|[178.623963823874...|[1.32589766213010...|[0.93412155816733...|       0.0|\n",
            "|    0|25769803831|  85.03128805189493|-4.3024316644854546|-1.1841857567516714|[85.0312880518949...|[1.32621410603712...|[0.93416049441777...|       0.0|\n",
            "|    0|34359738411| 26.786262674736566| -46.33193951911338| 20.880756008396055|[26.7862626747365...|[1.32589766213010...|[0.93412155816733...|       0.0|\n",
            "|    0| 8589934592|-16.203752396859194| 51.080957032176954| -96.80526656416971|[-16.203752396859...|[1.32590267922033...|[0.93412217565278...|       0.0|\n",
            "|    0|25769803852|   47.2048142440404|  -78.2950899652916| 181.99604091494786|[47.2048142440404...|[1.32589955669978...|[0.93412179134479...|       0.0|\n",
            "|    0|34359738369| 15.608872398939273| -79.90322809181754|  69.62150711098005|[15.6088723989392...|[1.32590267922033...|[0.93412217565278...|       0.0|\n",
            "|    0|         19|-4.8281721129789315| -67.38050508399905| 221.24876396496404|[-4.8281721129789...|[1.32396579485090...|[0.93388339065422...|       0.0|\n",
            "|    0|         54| -98.40725712852762|-19.989364074314732|  -302.695196085276|[-98.407257128527...|[1.32590267922033...|[0.93412217565278...|       0.0|\n",
            "|    0|17179869313| 22.835845394816594|   17.1633660118843| 32.877914832011385|[22.8358453948165...|[1.32590267922033...|[0.93412217565278...|       0.0|\n",
            "|    0|34359738454|  84.20178070080324| -32.81572075916947| -48.63517643958031|[84.2017807008032...|[1.32589766213010...|[0.93412155816733...|       0.0|\n",
            "|    0|          0|  56.54732521345129| -7.980106018032676|  95.05162719436447|[56.5473252134512...|[1.32589766213010...|[0.93412155816733...|       0.0|\n",
            "|    0|17179869201|  -57.6008655247749|  5.135393798773895| 236.99158698947267|[-57.600865524774...|[1.33122144395126...|[0.93477377205806...|       0.0|\n",
            "|    0|17179869308| -65.59264738389012| -48.92660057215126| -61.58970715383383|[-65.592647383890...|[1.32590267922033...|[0.93412217565278...|       0.0|\n",
            "|    0|25769803790|  34.82337351291005|  9.483542084393937|  197.6066372962772|[34.8233735129100...|[1.51228073545265...|[0.95367147883022...|       0.0|\n",
            "|    0|25769803825|  39.80573823439121|-0.7955236412785212| -79.66652640650325|[39.8057382343912...|[1.32711813715030...|[0.93427161142354...|       0.0|\n",
            "+-----+-----------+-------------------+-------------------+-------------------+--------------------+--------------------+--------------------+----------+\n",
            "only showing top 20 rows\n",
            "\n"
          ],
          "name": "stdout"
        }
      ]
    },
    {
      "cell_type": "code",
      "metadata": {
        "colab": {
          "base_uri": "https://localhost:8080/"
        },
        "id": "Bbrjwm8eYP0H",
        "outputId": "ecd879c9-fb45-4990-b839-477f19a19f24"
      },
      "source": [
        "from pyspark.ml.evaluation import MulticlassClassificationEvaluator\n",
        "binEval = MulticlassClassificationEvaluator().setMetricName(\"accuracy\") .setPredictionCol(\"prediction\").setLabelCol(\"CLASS\")\n",
        "    \n",
        "binEval.evaluate(prediction) "
      ],
      "execution_count": 24,
      "outputs": [
        {
          "output_type": "execute_result",
          "data": {
            "text/plain": [
              "0.9986850756081526"
            ]
          },
          "metadata": {
            "tags": []
          },
          "execution_count": 24
        }
      ]
    },
    {
      "cell_type": "markdown",
      "metadata": {
        "id": "WScT29IcYP0H"
      },
      "source": [
        "If you are happy with the result (I’m happy with > 0.55) please submit your solution to the grader by executing the following cells, please don’t forget to obtain an assignment submission token (secret) from the Coursera’s graders web page and paste it to the “secret” variable below, including your email address you’ve used for Coursera. (0.55 means that you are performing better than random guesses)\n"
      ]
    },
    {
      "cell_type": "code",
      "metadata": {
        "id": "VkixBwKTYP0H"
      },
      "source": [
        "!rm -Rf a2_m2.json"
      ],
      "execution_count": 25,
      "outputs": []
    },
    {
      "cell_type": "code",
      "metadata": {
        "id": "vPGDJy8nYP0H"
      },
      "source": [
        "prediction = prediction.repartition(1)\n",
        "prediction.write.json('a2_m2.json')"
      ],
      "execution_count": 26,
      "outputs": []
    },
    {
      "cell_type": "code",
      "metadata": {
        "colab": {
          "base_uri": "https://localhost:8080/"
        },
        "id": "25lzXQ5KYP0H",
        "outputId": "804876d2-5f51-46f9-83c6-d20471d6c373"
      },
      "source": [
        "!rm -f rklib.py\n",
        "!wget https://raw.githubusercontent.com/IBM/coursera/master/rklib.py"
      ],
      "execution_count": 27,
      "outputs": [
        {
          "output_type": "stream",
          "text": [
            "--2020-11-19 07:29:41--  https://raw.githubusercontent.com/IBM/coursera/master/rklib.py\n",
            "Resolving raw.githubusercontent.com (raw.githubusercontent.com)... 151.101.0.133, 151.101.64.133, 151.101.128.133, ...\n",
            "Connecting to raw.githubusercontent.com (raw.githubusercontent.com)|151.101.0.133|:443... connected.\n",
            "HTTP request sent, awaiting response... 200 OK\n",
            "Length: 2540 (2.5K) [text/plain]\n",
            "Saving to: ‘rklib.py’\n",
            "\n",
            "rklib.py            100%[===================>]   2.48K  --.-KB/s    in 0s      \n",
            "\n",
            "2020-11-19 07:29:42 (32.8 MB/s) - ‘rklib.py’ saved [2540/2540]\n",
            "\n"
          ],
          "name": "stdout"
        }
      ]
    },
    {
      "cell_type": "code",
      "metadata": {
        "id": "q45wY9n5YP0H"
      },
      "source": [
        "import zipfile\n",
        "import os\n",
        "\n",
        "def zipdir(path, ziph):\n",
        "    for root, dirs, files in os.walk(path):\n",
        "        for file in files:\n",
        "            ziph.write(os.path.join(root, file))\n",
        "\n",
        "zipf = zipfile.ZipFile('a2_m2.json.zip', 'w', zipfile.ZIP_DEFLATED)\n",
        "zipdir('a2_m2.json', zipf)\n",
        "zipf.close()"
      ],
      "execution_count": 28,
      "outputs": []
    },
    {
      "cell_type": "code",
      "metadata": {
        "id": "LV8cLKsmYP0H"
      },
      "source": [
        "!base64 a2_m2.json.zip > a2_m2.json.zip.base64"
      ],
      "execution_count": 29,
      "outputs": []
    },
    {
      "cell_type": "code",
      "metadata": {
        "colab": {
          "base_uri": "https://localhost:8080/"
        },
        "id": "Q-k9nFn_YP0H",
        "outputId": "45614a44-ab84-4f28-89d1-bbb5c49985e2"
      },
      "source": [
        "from rklib import submit\n",
        "key = \"J3sDL2J8EeiaXhILFWw2-g\"\n",
        "part = \"G4P6f\"\n",
        "email = 'uda'\n",
        "token = 'aaa' # (have a look here if you need more information on how to obtain the token https://youtu.be/GcDo0Rwe06U?t=276)\n",
        "\n",
        "with open('a2_m2.json.zip.base64', 'r') as myfile:\n",
        "    data=myfile.read()\n",
        "submit(email, token, key, part, [part], data)"
      ],
      "execution_count": 30,
      "outputs": [
        {
          "output_type": "stream",
          "text": [
            "Submission successful, please check on the coursera grader page for the status\n",
            "-------------------------\n",
            "{\"elements\":[{\"itemId\":\"LTL4F\",\"id\":\"f_F-qCtuEei_fRLwaVDk3g~LTL4F~H2711yo5EeuEdxJrN3ktKw\",\"courseId\":\"f_F-qCtuEei_fRLwaVDk3g\"}],\"paging\":{},\"linked\":{}}\n",
            "-------------------------\n"
          ],
          "name": "stdout"
        }
      ]
    },
    {
      "cell_type": "code",
      "metadata": {
        "id": "ifgiKQ8paY8N"
      },
      "source": [
        ""
      ],
      "execution_count": null,
      "outputs": []
    }
  ]
}